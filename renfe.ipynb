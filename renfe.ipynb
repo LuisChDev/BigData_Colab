{
  "nbformat": 4,
  "nbformat_minor": 0,
  "metadata": {
    "colab": {
      "name": "renfe.ipynb",
      "provenance": [],
      "collapsed_sections": [
        "LplYKMC5GxV0",
        "fZnj0W1kd_fc",
        "ljYxC_6zp34r",
        "-XsCuV5IqArj",
        "ofyFKMXhqGy0",
        "EyUWY2R41wKL",
        "8GSuC3v58hEj"
      ],
      "toc_visible": true,
      "include_colab_link": true
    },
    "kernelspec": {
      "name": "python3",
      "display_name": "Python 3"
    }
  },
  "cells": [
    {
      "cell_type": "markdown",
      "metadata": {
        "id": "view-in-github",
        "colab_type": "text"
      },
      "source": [
        "<a href=\"https://colab.research.google.com/github/LuisChDev/BigData_Colab/blob/master/renfe.ipynb\" target=\"_parent\"><img src=\"https://colab.research.google.com/assets/colab-badge.svg\" alt=\"Open In Colab\"/></a>"
      ]
    },
    {
      "cell_type": "markdown",
      "metadata": {
        "id": "JqBinuBKGo-D",
        "colab_type": "text"
      },
      "source": [
        "# Análisis Descriptivo \n",
        "Luis Chavarriaga, Roque del Rio"
      ]
    },
    {
      "cell_type": "markdown",
      "metadata": {
        "id": "P4CaVbwbFkHQ",
        "colab_type": "text"
      },
      "source": [
        "#### Imports, Preparación de datos  \n",
        "---\n",
        "#### Imports y Librerías "
      ]
    },
    {
      "cell_type": "code",
      "metadata": {
        "id": "lyb-z7ojEtcX",
        "colab_type": "code",
        "colab": {
          "base_uri": "https://localhost:8080/",
          "height": 34
        },
        "outputId": "b9bb3c32-cb53-47cb-b3d0-9038e7b660b8"
      },
      "source": [
        "import numpy as np\n",
        "import pandas as pd \n",
        "import matplotlib.pyplot as plt\n",
        "\n",
        "# google colab solamente\n",
        "\n",
        "from google.colab import drive\n",
        "drive.mount('/content/drive')\n",
        "\n"
      ],
      "execution_count": null,
      "outputs": [
        {
          "output_type": "stream",
          "text": [
            "Drive already mounted at /content/drive; to attempt to forcibly remount, call drive.mount(\"/content/drive\", force_remount=True).\n"
          ],
          "name": "stdout"
        }
      ]
    },
    {
      "cell_type": "markdown",
      "metadata": {
        "id": "AMau0BWZGVkw",
        "colab_type": "text"
      },
      "source": [
        "##### Leer data\n"
      ]
    },
    {
      "cell_type": "code",
      "metadata": {
        "id": "RxwamsRBGXGM",
        "colab_type": "code",
        "colab": {
          "base_uri": "https://localhost:8080/",
          "height": 70
        },
        "outputId": "0e54fe5c-5ded-4c19-f560-7bde6e9ec5f8"
      },
      "source": [
        "dtypes = {'origin': 'str', 'destination': 'str', 'train_type': 'str', 'price': 'float'}\n",
        "parse_dates = ['start_date', 'end_date']\n",
        "dataSample = pd.read_csv('/content/drive/My Drive/high_speed_spanish_trains.csv',dtype=dtypes, parse_dates=parse_dates)\n"
      ],
      "execution_count": null,
      "outputs": [
        {
          "output_type": "stream",
          "text": [
            "/usr/local/lib/python3.6/dist-packages/IPython/core/interactiveshell.py:2718: DtypeWarning: Columns (9,10) have mixed types.Specify dtype option on import or set low_memory=False.\n",
            "  interactivity=interactivity, compiler=compiler, result=result)\n"
          ],
          "name": "stderr"
        }
      ]
    },
    {
      "cell_type": "markdown",
      "metadata": {
        "id": "VKpEFVW6oVuP",
        "colab_type": "text"
      },
      "source": [
        "##### Reducir size del dataFrame"
      ]
    },
    {
      "cell_type": "code",
      "metadata": {
        "id": "uQXlgBoJofeD",
        "colab_type": "code",
        "colab": {}
      },
      "source": [
        "dataSample = dataSample.sample(frac=0.30, random_state=99) "
      ],
      "execution_count": null,
      "outputs": []
    },
    {
      "cell_type": "markdown",
      "metadata": {
        "id": "FWXTtM2-Gey0",
        "colab_type": "text"
      },
      "source": [
        "#### Adquirir información y ejemplo de la data "
      ]
    },
    {
      "cell_type": "markdown",
      "metadata": {
        "id": "yioqjnNrgpou",
        "colab_type": "text"
      },
      "source": [
        ""
      ]
    },
    {
      "cell_type": "code",
      "metadata": {
        "id": "XQgC3zexGhPc",
        "colab_type": "code",
        "colab": {
          "base_uri": "https://localhost:8080/",
          "height": 336
        },
        "outputId": "ed57a6a4-589e-457d-cada-30ec8235aa58"
      },
      "source": [
        "dataSample.info()"
      ],
      "execution_count": null,
      "outputs": [
        {
          "output_type": "stream",
          "text": [
            "<class 'pandas.core.frame.DataFrame'>\n",
            "Int64Index: 8128053 entries, 21375198 to 8624228\n",
            "Data columns (total 12 columns):\n",
            " #   Column       Dtype         \n",
            "---  ------       -----         \n",
            " 0   insert_date  object        \n",
            " 1   origin       object        \n",
            " 2   destination  object        \n",
            " 3   start_date   datetime64[ns]\n",
            " 4   end_date     datetime64[ns]\n",
            " 5   train_type   object        \n",
            " 6   price        float64       \n",
            " 7   train_class  object        \n",
            " 8   fare         object        \n",
            " 9   price_tree   object        \n",
            " 10  batch        object        \n",
            " 11  id           float64       \n",
            "dtypes: datetime64[ns](2), float64(2), object(8)\n",
            "memory usage: 806.2+ MB\n"
          ],
          "name": "stdout"
        }
      ]
    },
    {
      "cell_type": "code",
      "metadata": {
        "id": "XyeibDLuGhtc",
        "colab_type": "code",
        "colab": {
          "base_uri": "https://localhost:8080/",
          "height": 450
        },
        "outputId": "bb75cd53-0f5f-4869-e5b0-a64bb0b71573"
      },
      "source": [
        "dataSample.head()"
      ],
      "execution_count": null,
      "outputs": [
        {
          "output_type": "execute_result",
          "data": {
            "text/html": [
              "<div>\n",
              "<style scoped>\n",
              "    .dataframe tbody tr th:only-of-type {\n",
              "        vertical-align: middle;\n",
              "    }\n",
              "\n",
              "    .dataframe tbody tr th {\n",
              "        vertical-align: top;\n",
              "    }\n",
              "\n",
              "    .dataframe thead th {\n",
              "        text-align: right;\n",
              "    }\n",
              "</style>\n",
              "<table border=\"1\" class=\"dataframe\">\n",
              "  <thead>\n",
              "    <tr style=\"text-align: right;\">\n",
              "      <th></th>\n",
              "      <th>insert_date</th>\n",
              "      <th>origin</th>\n",
              "      <th>destination</th>\n",
              "      <th>start_date</th>\n",
              "      <th>end_date</th>\n",
              "      <th>train_type</th>\n",
              "      <th>price</th>\n",
              "      <th>train_class</th>\n",
              "      <th>fare</th>\n",
              "      <th>price_tree</th>\n",
              "      <th>batch</th>\n",
              "      <th>id</th>\n",
              "    </tr>\n",
              "  </thead>\n",
              "  <tbody>\n",
              "    <tr>\n",
              "      <th>21375198</th>\n",
              "      <td>2020-03-12 18:34:15</td>\n",
              "      <td>ALICANTE</td>\n",
              "      <td>MADRID</td>\n",
              "      <td>2020-05-10 20:10:00</td>\n",
              "      <td>2020-05-10 22:47:00</td>\n",
              "      <td>AVE</td>\n",
              "      <td>55.7</td>\n",
              "      <td>Turista</td>\n",
              "      <td>Promo +</td>\n",
              "      <td>{\"Turista\": {\"Promo +\": {\"price\": 55.7, \"seats...</td>\n",
              "      <td>2020-03-12 16:30:00</td>\n",
              "      <td>10564590.0</td>\n",
              "    </tr>\n",
              "    <tr>\n",
              "      <th>27049297</th>\n",
              "      <td>2020-03-30 12:35:57</td>\n",
              "      <td>VALENCIA</td>\n",
              "      <td>MADRID</td>\n",
              "      <td>2020-05-03 18:10:00</td>\n",
              "      <td>2020-05-03 19:57:00</td>\n",
              "      <td>AVE</td>\n",
              "      <td>NaN</td>\n",
              "      <td>NaN</td>\n",
              "      <td>NaN</td>\n",
              "      <td>{}</td>\n",
              "      <td>2020-03-30 10:30:00</td>\n",
              "      <td>16296868.0</td>\n",
              "    </tr>\n",
              "    <tr>\n",
              "      <th>17289332</th>\n",
              "      <td>2020-02-21 06:32:22</td>\n",
              "      <td>MADRID</td>\n",
              "      <td>SEVILLA</td>\n",
              "      <td>2020-02-28 17:00:00</td>\n",
              "      <td>2020-02-28 19:38:00</td>\n",
              "      <td>AVE</td>\n",
              "      <td>NaN</td>\n",
              "      <td>NaN</td>\n",
              "      <td>NaN</td>\n",
              "      <td>{}</td>\n",
              "      <td>2020-02-21 04:01:33.517092</td>\n",
              "      <td>6543671.0</td>\n",
              "    </tr>\n",
              "    <tr>\n",
              "      <th>2495366</th>\n",
              "      <td>2019-06-13 13:40:42</td>\n",
              "      <td>VALENCIA</td>\n",
              "      <td>MADRID</td>\n",
              "      <td>2019-08-02 10:40:00</td>\n",
              "      <td>2019-08-02 13:05:00</td>\n",
              "      <td>INTERCITY</td>\n",
              "      <td>25.5</td>\n",
              "      <td>Turista</td>\n",
              "      <td>Promo</td>\n",
              "      <td>NaN</td>\n",
              "      <td>NaN</td>\n",
              "      <td>NaN</td>\n",
              "    </tr>\n",
              "    <tr>\n",
              "      <th>15264812</th>\n",
              "      <td>2020-02-27 10:14:15</td>\n",
              "      <td>ALBACETE</td>\n",
              "      <td>MADRID</td>\n",
              "      <td>2020-03-11 07:07:00</td>\n",
              "      <td>2020-03-11 08:45:00</td>\n",
              "      <td>AVE</td>\n",
              "      <td>28.2</td>\n",
              "      <td>Turista</td>\n",
              "      <td>Promo</td>\n",
              "      <td>{\"Turista\": {\"Promo\": {\"price\": 28.2, \"seats\":...</td>\n",
              "      <td>2020-02-27 06:00:00</td>\n",
              "      <td>4519151.0</td>\n",
              "    </tr>\n",
              "  </tbody>\n",
              "</table>\n",
              "</div>"
            ],
            "text/plain": [
              "                  insert_date    origin  ...                       batch          id\n",
              "21375198  2020-03-12 18:34:15  ALICANTE  ...         2020-03-12 16:30:00  10564590.0\n",
              "27049297  2020-03-30 12:35:57  VALENCIA  ...         2020-03-30 10:30:00  16296868.0\n",
              "17289332  2020-02-21 06:32:22    MADRID  ...  2020-02-21 04:01:33.517092   6543671.0\n",
              "2495366   2019-06-13 13:40:42  VALENCIA  ...                         NaN         NaN\n",
              "15264812  2020-02-27 10:14:15  ALBACETE  ...         2020-02-27 06:00:00   4519151.0\n",
              "\n",
              "[5 rows x 12 columns]"
            ]
          },
          "metadata": {
            "tags": []
          },
          "execution_count": 5
        }
      ]
    },
    {
      "cell_type": "markdown",
      "metadata": {
        "id": "LplYKMC5GxV0",
        "colab_type": "text"
      },
      "source": [
        "##### Convertir datos a formato datetime, normalizar filas con valores nulos\n",
        " \n",
        "- Los valores nulos se reemplazan con None."
      ]
    },
    {
      "cell_type": "code",
      "metadata": {
        "id": "BY5twSGKGjbl",
        "colab_type": "code",
        "colab": {}
      },
      "source": [
        "dataSample['price_tree'] = dataSample['price_tree'].fillna(0.0)\n",
        "dataSample['price'] = dataSample['price'].fillna(0.0)\n",
        "dataSample['id'] = dataSample['id'].fillna(0.0)\n",
        "dataSample['train_class'] = dataSample['train_class'].fillna('None')\n",
        "dataSample['fare'] = dataSample['fare'].fillna('None')\n",
        "dataSample['batch'] = dataSample['batch'].fillna('None')\n",
        "\n",
        "# dataSample.dropna(axis=0,subset=['price'],inplace=True)\n",
        "# dataSample.dropna(axis=0,inplace=True)\n"
      ],
      "execution_count": null,
      "outputs": []
    },
    {
      "cell_type": "markdown",
      "metadata": {
        "id": "fZnj0W1kd_fc",
        "colab_type": "text"
      },
      "source": [
        "##### Comprobar si se han reemplazado correctamente los valores NaN\n",
        "\n",
        "Posteriormente se verifica si existen valores nulos en la data"
      ]
    },
    {
      "cell_type": "code",
      "metadata": {
        "id": "gBzHhmHqjNG7",
        "colab_type": "code",
        "colab": {
          "base_uri": "https://localhost:8080/"
        },
        "outputId": "5d8c4aa7-862a-453a-a5d6-a81351613455"
      },
      "source": [
        "#dataSample.to_string(columns = ['origin', 'destination']) # no necesario, pandas guarda STRING como object\n",
        "    \n",
        "dataSample.info()\n",
        "\n",
        "dataSample.isnull().any()"
      ],
      "execution_count": null,
      "outputs": [
        {
          "output_type": "stream",
          "text": [
            "<class 'pandas.core.frame.DataFrame'>\n",
            "Int64Index: 8128053 entries, 21375198 to 8624228\n",
            "Data columns (total 12 columns):\n",
            " #   Column       Dtype         \n",
            "---  ------       -----         \n",
            " 0   insert_date  object        \n",
            " 1   origin       object        \n",
            " 2   destination  object        \n",
            " 3   start_date   datetime64[ns]\n",
            " 4   end_date     datetime64[ns]\n",
            " 5   train_type   object        \n",
            " 6   price        float64       \n",
            " 7   train_class  object        \n",
            " 8   fare         object        \n",
            " 9   price_tree   object        \n",
            " 10  batch        object        \n",
            " 11  id           float64       \n",
            "dtypes: datetime64[ns](2), float64(2), object(8)\n",
            "memory usage: 806.2+ MB\n"
          ],
          "name": "stdout"
        },
        {
          "output_type": "execute_result",
          "data": {
            "text/plain": [
              "insert_date    False\n",
              "origin         False\n",
              "destination    False\n",
              "start_date     False\n",
              "end_date       False\n",
              "train_type     False\n",
              "price          False\n",
              "train_class    False\n",
              "fare           False\n",
              "price_tree     False\n",
              "batch          False\n",
              "id             False\n",
              "dtype: bool"
            ]
          },
          "metadata": {
            "tags": []
          },
          "execution_count": 7
        }
      ]
    },
    {
      "cell_type": "markdown",
      "metadata": {
        "id": "7USMTjyQuSev",
        "colab_type": "text"
      },
      "source": [
        "##### Extraer datos del data frame"
      ]
    },
    {
      "cell_type": "code",
      "metadata": {
        "id": "j3xED0LcuVJP",
        "colab_type": "code",
        "colab": {}
      },
      "source": [
        "dataSample['start_year'] = dataSample['start_date'].dt.year\n",
        "dataSample['start_month'] = dataSample['start_date'].dt.month\n",
        "dataSample['start_day'] = dataSample['start_date'].dt.day\n",
        "dataSample['start_hour'] = dataSample['start_date'].dt.hour\n",
        "\n",
        "dataSample['travel_time'] = dataSample['end_date'] - dataSample['start_date']\n",
        "dataSample['travel_time'] = dataSample['travel_time'].dt.total_seconds().div(60).astype(int)\n",
        "dataSample['route'] = dataSample['origin'].astype(str) + \" \" + dataSample['destination'].astype(str)"
      ],
      "execution_count": null,
      "outputs": []
    },
    {
      "cell_type": "code",
      "metadata": {
        "id": "sWn4NMq0xEJZ",
        "colab_type": "code",
        "colab": {
          "base_uri": "https://localhost:8080/",
          "height": 164
        },
        "outputId": "f7257033-3a59-492e-91b5-4322b60bfd07"
      },
      "source": [
        "dataSample.sample()"
      ],
      "execution_count": null,
      "outputs": [
        {
          "output_type": "execute_result",
          "data": {
            "text/html": [
              "<div>\n",
              "<style scoped>\n",
              "    .dataframe tbody tr th:only-of-type {\n",
              "        vertical-align: middle;\n",
              "    }\n",
              "\n",
              "    .dataframe tbody tr th {\n",
              "        vertical-align: top;\n",
              "    }\n",
              "\n",
              "    .dataframe thead th {\n",
              "        text-align: right;\n",
              "    }\n",
              "</style>\n",
              "<table border=\"1\" class=\"dataframe\">\n",
              "  <thead>\n",
              "    <tr style=\"text-align: right;\">\n",
              "      <th></th>\n",
              "      <th>insert_date</th>\n",
              "      <th>origin</th>\n",
              "      <th>destination</th>\n",
              "      <th>start_date</th>\n",
              "      <th>end_date</th>\n",
              "      <th>train_type</th>\n",
              "      <th>price</th>\n",
              "      <th>train_class</th>\n",
              "      <th>fare</th>\n",
              "      <th>price_tree</th>\n",
              "      <th>batch</th>\n",
              "      <th>id</th>\n",
              "      <th>start_year</th>\n",
              "      <th>start_month</th>\n",
              "      <th>start_day</th>\n",
              "      <th>start_hour</th>\n",
              "      <th>travel_time</th>\n",
              "      <th>route</th>\n",
              "    </tr>\n",
              "  </thead>\n",
              "  <tbody>\n",
              "    <tr>\n",
              "      <th>15713961</th>\n",
              "      <td>2020-02-29 03:15:08</td>\n",
              "      <td>MADRID</td>\n",
              "      <td>BARCELONA</td>\n",
              "      <td>2020-03-02 20:30:00</td>\n",
              "      <td>2020-03-02 23:40:00</td>\n",
              "      <td>AVE</td>\n",
              "      <td>69.75</td>\n",
              "      <td>Preferente</td>\n",
              "      <td>Promo</td>\n",
              "      <td>{\"Turista\": {\"Promo\": {\"price\": 76.25, \"seats\"...</td>\n",
              "      <td>2020-02-28 21:00:00</td>\n",
              "      <td>4968300.0</td>\n",
              "      <td>2020</td>\n",
              "      <td>3</td>\n",
              "      <td>2</td>\n",
              "      <td>20</td>\n",
              "      <td>190</td>\n",
              "      <td>MADRID BARCELONA</td>\n",
              "    </tr>\n",
              "  </tbody>\n",
              "</table>\n",
              "</div>"
            ],
            "text/plain": [
              "                  insert_date  origin  ... travel_time             route\n",
              "15713961  2020-02-29 03:15:08  MADRID  ...         190  MADRID BARCELONA\n",
              "\n",
              "[1 rows x 18 columns]"
            ]
          },
          "metadata": {
            "tags": []
          },
          "execution_count": 9
        }
      ]
    },
    {
      "cell_type": "markdown",
      "metadata": {
        "id": "lUUQc9YCjyA8",
        "colab_type": "text"
      },
      "source": [
        "#### Analisis numerico de precios\n",
        "---\n",
        "\n"
      ]
    },
    {
      "cell_type": "code",
      "metadata": {
        "id": "8aMq1QHvo5uu",
        "colab_type": "code",
        "colab": {
          "base_uri": "https://localhost:8080/",
          "height": 284
        },
        "outputId": "d5478861-d493-41fd-ca22-2eb6b8a239ee"
      },
      "source": [
        "dataSample[{'price': ['min', 'max', 'median', 'skew']}].describe()"
      ],
      "execution_count": null,
      "outputs": [
        {
          "output_type": "execute_result",
          "data": {
            "text/html": [
              "<div>\n",
              "<style scoped>\n",
              "    .dataframe tbody tr th:only-of-type {\n",
              "        vertical-align: middle;\n",
              "    }\n",
              "\n",
              "    .dataframe tbody tr th {\n",
              "        vertical-align: top;\n",
              "    }\n",
              "\n",
              "    .dataframe thead th {\n",
              "        text-align: right;\n",
              "    }\n",
              "</style>\n",
              "<table border=\"1\" class=\"dataframe\">\n",
              "  <thead>\n",
              "    <tr style=\"text-align: right;\">\n",
              "      <th></th>\n",
              "      <th>price</th>\n",
              "    </tr>\n",
              "  </thead>\n",
              "  <tbody>\n",
              "    <tr>\n",
              "      <th>count</th>\n",
              "      <td>8.128053e+06</td>\n",
              "    </tr>\n",
              "    <tr>\n",
              "      <th>mean</th>\n",
              "      <td>3.958921e+01</td>\n",
              "    </tr>\n",
              "    <tr>\n",
              "      <th>std</th>\n",
              "      <td>3.341381e+01</td>\n",
              "    </tr>\n",
              "    <tr>\n",
              "      <th>min</th>\n",
              "      <td>0.000000e+00</td>\n",
              "    </tr>\n",
              "    <tr>\n",
              "      <th>25%</th>\n",
              "      <td>0.000000e+00</td>\n",
              "    </tr>\n",
              "    <tr>\n",
              "      <th>50%</th>\n",
              "      <td>3.960000e+01</td>\n",
              "    </tr>\n",
              "    <tr>\n",
              "      <th>75%</th>\n",
              "      <td>6.340000e+01</td>\n",
              "    </tr>\n",
              "    <tr>\n",
              "      <th>max</th>\n",
              "      <td>3.428000e+02</td>\n",
              "    </tr>\n",
              "  </tbody>\n",
              "</table>\n",
              "</div>"
            ],
            "text/plain": [
              "              price\n",
              "count  8.128053e+06\n",
              "mean   3.958921e+01\n",
              "std    3.341381e+01\n",
              "min    0.000000e+00\n",
              "25%    0.000000e+00\n",
              "50%    3.960000e+01\n",
              "75%    6.340000e+01\n",
              "max    3.428000e+02"
            ]
          },
          "metadata": {
            "tags": []
          },
          "execution_count": 10
        }
      ]
    },
    {
      "cell_type": "markdown",
      "metadata": {
        "id": "2B0Ig-3HNr0K",
        "colab_type": "text"
      },
      "source": [
        "#### Analisis de ciudades y destinos\n",
        "---\n",
        "\n"
      ]
    },
    {
      "cell_type": "markdown",
      "metadata": {
        "id": "LQvyp_gzpHSb",
        "colab_type": "text"
      },
      "source": [
        "##### Origin cities (\"Ciudades origen\")"
      ]
    },
    {
      "cell_type": "code",
      "metadata": {
        "id": "cVFI0l4vK4p7",
        "colab_type": "code",
        "colab": {
          "base_uri": "https://localhost:8080/",
          "height": 499
        },
        "outputId": "4b33a758-5dd7-4c9d-c677-3865f3597ad4"
      },
      "source": [
        "dataSample['origin'].value_counts().plot(kind='pie', title = 'origin cities', figsize=(8,8))\n"
      ],
      "execution_count": null,
      "outputs": [
        {
          "output_type": "execute_result",
          "data": {
            "text/plain": [
              "<matplotlib.axes._subplots.AxesSubplot at 0x7f9bff060f28>"
            ]
          },
          "metadata": {
            "tags": []
          },
          "execution_count": 11
        },
        {
          "output_type": "display_data",
          "data": {
            "image/png": "[encoded data removed]",
            "text/plain": [
              "<Figure size 576x576 with 1 Axes>"
            ]
          },
          "metadata": {
            "tags": []
          }
        }
      ]
    },
    {
      "cell_type": "markdown",
      "metadata": {
        "id": "P0xNbYETpNVi",
        "colab_type": "text"
      },
      "source": [
        "##### Destination cities (\"Ciudades destino\")"
      ]
    },
    {
      "cell_type": "code",
      "metadata": {
        "id": "E04MtfcdPIbT",
        "colab_type": "code",
        "colab": {
          "base_uri": "https://localhost:8080/",
          "height": 499
        },
        "outputId": "958ff1df-1995-47e4-c6f7-fbde6be395c6"
      },
      "source": [
        "dataSample['destination'].value_counts().plot(kind='pie', title = 'destination cities', figsize=(8,8))"
      ],
      "execution_count": null,
      "outputs": [
        {
          "output_type": "execute_result",
          "data": {
            "text/plain": [
              "<matplotlib.axes._subplots.AxesSubplot at 0x7f9befd56ef0>"
            ]
          },
          "metadata": {
            "tags": []
          },
          "execution_count": 12
        },
        {
          "output_type": "display_data",
          "data": {
            "image/png": "[encoded data removed]",
            "text/plain": [
              "<Figure size 576x576 with 1 Axes>"
            ]
          },
          "metadata": {
            "tags": []
          }
        }
      ]
    },
    {
      "cell_type": "markdown",
      "metadata": {
        "id": "7F_nk9la4xHD",
        "colab_type": "text"
      },
      "source": [
        "#### Analisis temporal\n",
        "---"
      ]
    },
    {
      "cell_type": "markdown",
      "metadata": {
        "id": "ljYxC_6zp34r",
        "colab_type": "text"
      },
      "source": [
        "##### Fechas de inicio y fin de viaje"
      ]
    },
    {
      "cell_type": "code",
      "metadata": {
        "id": "HBnLFsAQ4xn5",
        "colab_type": "code",
        "colab": {
          "base_uri": "https://localhost:8080/"
        },
        "outputId": "e58be32d-8cc0-42ff-8af2-00d162c4102a"
      },
      "source": [
        "stdate = dataSample['start_date'].dt.date.value_counts()\n",
        "stdate = stdate[:20,] # 20 datos es suficiente para propositos demonstrativos.\n",
        "stdate.plot.bar(title = 'start dates', figsize=(8,8))"
      ],
      "execution_count": null,
      "outputs": [
        {
          "output_type": "execute_result",
          "data": {
            "text/plain": [
              "<matplotlib.axes._subplots.AxesSubplot at 0x7f9be67b82b0>"
            ]
          },
          "metadata": {
            "tags": []
          },
          "execution_count": 13
        },
        {
          "output_type": "display_data",
          "data": {
            "image/png": "[encoded data removed]",
            "text/plain": [
              "<Figure size 576x576 with 1 Axes>"
            ]
          },
          "metadata": {
            "tags": [],
            "needs_background": "light"
          }
        }
      ]
    },
    {
      "cell_type": "code",
      "metadata": {
        "id": "VSpzomp263xO",
        "colab_type": "code",
        "colab": {
          "base_uri": "https://localhost:8080/"
        },
        "outputId": "7d3d31d2-f083-4758-f86a-d2498b342fda"
      },
      "source": [
        "stdate = dataSample['end_date'].dt.date.value_counts()\n",
        "stdate = stdate[:20,]\n",
        "stdate.plot.bar(title = 'end dates', figsize=(8,8))"
      ],
      "execution_count": null,
      "outputs": [
        {
          "output_type": "execute_result",
          "data": {
            "text/plain": [
              "<matplotlib.axes._subplots.AxesSubplot at 0x7f9bb2e9d2b0>"
            ]
          },
          "metadata": {
            "tags": []
          },
          "execution_count": 14
        },
        {
          "output_type": "display_data",
          "data": {
            "image/png": "[encoded data removed]",
            "text/plain": [
              "<Figure size 576x576 with 1 Axes>"
            ]
          },
          "metadata": {
            "tags": [],
            "needs_background": "light"
          }
        }
      ]
    },
    {
      "cell_type": "markdown",
      "metadata": {
        "id": "-XsCuV5IqArj",
        "colab_type": "text"
      },
      "source": [
        "##### Viajes por hora"
      ]
    },
    {
      "cell_type": "code",
      "metadata": {
        "id": "iWojJGCBnuan",
        "colab_type": "code",
        "colab": {
          "base_uri": "https://localhost:8080/"
        },
        "outputId": "6c6de728-d3ca-4454-bb3e-c85a5658616c"
      },
      "source": [
        "stdate = dataSample['start_hour'].value_counts()\n",
        "\n",
        "stdate.plot(kind = 'barh', title = 'trip start hours', figsize=(8,8))"
      ],
      "execution_count": null,
      "outputs": [
        {
          "output_type": "execute_result",
          "data": {
            "text/plain": [
              "<matplotlib.axes._subplots.AxesSubplot at 0x7f9bcc9ad080>"
            ]
          },
          "metadata": {
            "tags": []
          },
          "execution_count": 15
        },
        {
          "output_type": "display_data",
          "data": {
            "image/png": "[encoded data removed]",
            "text/plain": [
              "<Figure size 576x576 with 1 Axes>"
            ]
          },
          "metadata": {
            "tags": [],
            "needs_background": "light"
          }
        }
      ]
    },
    {
      "cell_type": "code",
      "metadata": {
        "id": "YNwdwOe-l3bj",
        "colab_type": "code",
        "colab": {
          "base_uri": "https://localhost:8080/"
        },
        "outputId": "e9a7c918-4240-4870-fc5e-5cbc330a4332"
      },
      "source": [
        "stdate = dataSample['end_date'].dt.hour.value_counts()\n",
        "\n",
        "stdate.plot(kind = 'barh', title = 'trip end hours', figsize=(8,8))"
      ],
      "execution_count": null,
      "outputs": [
        {
          "output_type": "execute_result",
          "data": {
            "text/plain": [
              "<matplotlib.axes._subplots.AxesSubplot at 0x7f9bc075ada0>"
            ]
          },
          "metadata": {
            "tags": []
          },
          "execution_count": 16
        },
        {
          "output_type": "display_data",
          "data": {
            "image/png": "[encoded data removed]",
            "text/plain": [
              "<Figure size 576x576 with 1 Axes>"
            ]
          },
          "metadata": {
            "tags": [],
            "needs_background": "light"
          }
        }
      ]
    },
    {
      "cell_type": "markdown",
      "metadata": {
        "id": "ofyFKMXhqGy0",
        "colab_type": "text"
      },
      "source": [
        "##### Viajes por mes"
      ]
    },
    {
      "cell_type": "code",
      "metadata": {
        "id": "QPm3gFkTqKk6",
        "colab_type": "code",
        "colab": {
          "base_uri": "https://localhost:8080/"
        },
        "outputId": "d3044ee6-8e7b-449c-96c0-76bb42406ee4"
      },
      "source": [
        "stdate = dataSample['start_month'].value_counts()\n",
        "\n",
        "stdate.plot(kind = 'bar', title = 'trips by month', figsize=(8,8))"
      ],
      "execution_count": null,
      "outputs": [
        {
          "output_type": "execute_result",
          "data": {
            "text/plain": [
              "<matplotlib.axes._subplots.AxesSubplot at 0x7f9c0205c438>"
            ]
          },
          "metadata": {
            "tags": []
          },
          "execution_count": 17
        },
        {
          "output_type": "display_data",
          "data": {
            "image/png": "[encoded data removed]",
            "text/plain": [
              "<Figure size 576x576 with 1 Axes>"
            ]
          },
          "metadata": {
            "tags": [],
            "needs_background": "light"
          }
        }
      ]
    },
    {
      "cell_type": "markdown",
      "metadata": {
        "id": "EyUWY2R41wKL",
        "colab_type": "text"
      },
      "source": [
        "##### Duracion promedio de viaje segun ruta"
      ]
    },
    {
      "cell_type": "code",
      "metadata": {
        "id": "2yO_Mt193CL9",
        "colab_type": "code",
        "colab": {
          "base_uri": "https://localhost:8080/"
        },
        "outputId": "7c5a159c-23ac-4534-e27d-9ac713348efb"
      },
      "source": [
        "dataSample.groupby('route').agg({\"travel_time\": \"mean\"})"
      ],
      "execution_count": null,
      "outputs": [
        {
          "output_type": "execute_result",
          "data": {
            "text/html": [
              "<div>\n",
              "<style scoped>\n",
              "    .dataframe tbody tr th:only-of-type {\n",
              "        vertical-align: middle;\n",
              "    }\n",
              "\n",
              "    .dataframe tbody tr th {\n",
              "        vertical-align: top;\n",
              "    }\n",
              "\n",
              "    .dataframe thead th {\n",
              "        text-align: right;\n",
              "    }\n",
              "</style>\n",
              "<table border=\"1\" class=\"dataframe\">\n",
              "  <thead>\n",
              "    <tr style=\"text-align: right;\">\n",
              "      <th></th>\n",
              "      <th>travel_time</th>\n",
              "    </tr>\n",
              "    <tr>\n",
              "      <th>route</th>\n",
              "      <th></th>\n",
              "    </tr>\n",
              "  </thead>\n",
              "  <tbody>\n",
              "    <tr>\n",
              "      <th>ALBACETE MADRID</th>\n",
              "      <td>121.440154</td>\n",
              "    </tr>\n",
              "    <tr>\n",
              "      <th>ALICANTE MADRID</th>\n",
              "      <td>175.473989</td>\n",
              "    </tr>\n",
              "    <tr>\n",
              "      <th>BARCELONA MADRID</th>\n",
              "      <td>189.489657</td>\n",
              "    </tr>\n",
              "    <tr>\n",
              "      <th>CADIZ MADRID</th>\n",
              "      <td>271.842506</td>\n",
              "    </tr>\n",
              "    <tr>\n",
              "      <th>CASTELLON MADRID</th>\n",
              "      <td>208.985767</td>\n",
              "    </tr>\n",
              "    <tr>\n",
              "      <th>CIUDAD REAL MADRID</th>\n",
              "      <td>67.645326</td>\n",
              "    </tr>\n",
              "    <tr>\n",
              "      <th>CORDOBA MADRID</th>\n",
              "      <td>113.609548</td>\n",
              "    </tr>\n",
              "    <tr>\n",
              "      <th>CUENCA MADRID</th>\n",
              "      <td>79.939528</td>\n",
              "    </tr>\n",
              "    <tr>\n",
              "      <th>GIRONA MADRID</th>\n",
              "      <td>256.604286</td>\n",
              "    </tr>\n",
              "    <tr>\n",
              "      <th>GRANADA MADRID</th>\n",
              "      <td>196.872067</td>\n",
              "    </tr>\n",
              "    <tr>\n",
              "      <th>GUADALAJARA MADRID</th>\n",
              "      <td>32.196801</td>\n",
              "    </tr>\n",
              "    <tr>\n",
              "      <th>HUESCA MADRID</th>\n",
              "      <td>182.294853</td>\n",
              "    </tr>\n",
              "    <tr>\n",
              "      <th>LEON MADRID</th>\n",
              "      <td>195.200492</td>\n",
              "    </tr>\n",
              "    <tr>\n",
              "      <th>LLEIDA MADRID</th>\n",
              "      <td>145.134559</td>\n",
              "    </tr>\n",
              "    <tr>\n",
              "      <th>MADRID ALBACETE</th>\n",
              "      <td>114.722720</td>\n",
              "    </tr>\n",
              "    <tr>\n",
              "      <th>MADRID ALICANTE</th>\n",
              "      <td>174.172555</td>\n",
              "    </tr>\n",
              "    <tr>\n",
              "      <th>MADRID BARCELONA</th>\n",
              "      <td>189.924309</td>\n",
              "    </tr>\n",
              "    <tr>\n",
              "      <th>MADRID CADIZ</th>\n",
              "      <td>266.821594</td>\n",
              "    </tr>\n",
              "    <tr>\n",
              "      <th>MADRID CASTELLON</th>\n",
              "      <td>186.896901</td>\n",
              "    </tr>\n",
              "    <tr>\n",
              "      <th>MADRID CIUDAD REAL</th>\n",
              "      <td>63.533840</td>\n",
              "    </tr>\n",
              "    <tr>\n",
              "      <th>MADRID CORDOBA</th>\n",
              "      <td>110.842010</td>\n",
              "    </tr>\n",
              "    <tr>\n",
              "      <th>MADRID CUENCA</th>\n",
              "      <td>77.764190</td>\n",
              "    </tr>\n",
              "    <tr>\n",
              "      <th>MADRID GIRONA</th>\n",
              "      <td>240.275857</td>\n",
              "    </tr>\n",
              "    <tr>\n",
              "      <th>MADRID GRANADA</th>\n",
              "      <td>198.330467</td>\n",
              "    </tr>\n",
              "    <tr>\n",
              "      <th>MADRID GUADALAJARA</th>\n",
              "      <td>28.648010</td>\n",
              "    </tr>\n",
              "    <tr>\n",
              "      <th>MADRID HUESCA</th>\n",
              "      <td>168.420833</td>\n",
              "    </tr>\n",
              "    <tr>\n",
              "      <th>MADRID LEON</th>\n",
              "      <td>179.408354</td>\n",
              "    </tr>\n",
              "    <tr>\n",
              "      <th>MADRID LLEIDA</th>\n",
              "      <td>131.489711</td>\n",
              "    </tr>\n",
              "    <tr>\n",
              "      <th>MADRID MALAGA</th>\n",
              "      <td>163.620510</td>\n",
              "    </tr>\n",
              "    <tr>\n",
              "      <th>MADRID PALENCIA</th>\n",
              "      <td>141.836009</td>\n",
              "    </tr>\n",
              "    <tr>\n",
              "      <th>MADRID PONFERRADA</th>\n",
              "      <td>288.013957</td>\n",
              "    </tr>\n",
              "    <tr>\n",
              "      <th>MADRID SEGOVIA</th>\n",
              "      <td>28.811725</td>\n",
              "    </tr>\n",
              "    <tr>\n",
              "      <th>MADRID SEVILLA</th>\n",
              "      <td>164.099587</td>\n",
              "    </tr>\n",
              "    <tr>\n",
              "      <th>MADRID TARRAGONA</th>\n",
              "      <td>180.501400</td>\n",
              "    </tr>\n",
              "    <tr>\n",
              "      <th>MADRID TOLEDO</th>\n",
              "      <td>32.927476</td>\n",
              "    </tr>\n",
              "    <tr>\n",
              "      <th>MADRID VALENCIA</th>\n",
              "      <td>172.991562</td>\n",
              "    </tr>\n",
              "    <tr>\n",
              "      <th>MADRID VALLADOLID</th>\n",
              "      <td>86.714293</td>\n",
              "    </tr>\n",
              "    <tr>\n",
              "      <th>MADRID ZAMORA</th>\n",
              "      <td>91.317172</td>\n",
              "    </tr>\n",
              "    <tr>\n",
              "      <th>MADRID ZARAGOZA</th>\n",
              "      <td>94.255234</td>\n",
              "    </tr>\n",
              "    <tr>\n",
              "      <th>MALAGA MADRID</th>\n",
              "      <td>162.562825</td>\n",
              "    </tr>\n",
              "    <tr>\n",
              "      <th>PALENCIA MADRID</th>\n",
              "      <td>148.890748</td>\n",
              "    </tr>\n",
              "    <tr>\n",
              "      <th>PONFERRADA MADRID</th>\n",
              "      <td>311.263369</td>\n",
              "    </tr>\n",
              "    <tr>\n",
              "      <th>SEGOVIA MADRID</th>\n",
              "      <td>31.781016</td>\n",
              "    </tr>\n",
              "    <tr>\n",
              "      <th>SEVILLA MADRID</th>\n",
              "      <td>169.236844</td>\n",
              "    </tr>\n",
              "    <tr>\n",
              "      <th>TARRAGONA MADRID</th>\n",
              "      <td>185.583131</td>\n",
              "    </tr>\n",
              "    <tr>\n",
              "      <th>TOLEDO MADRID</th>\n",
              "      <td>33.225948</td>\n",
              "    </tr>\n",
              "    <tr>\n",
              "      <th>VALENCIA MADRID</th>\n",
              "      <td>182.277606</td>\n",
              "    </tr>\n",
              "    <tr>\n",
              "      <th>VALLADOLID MADRID</th>\n",
              "      <td>92.152734</td>\n",
              "    </tr>\n",
              "    <tr>\n",
              "      <th>ZAMORA MADRID</th>\n",
              "      <td>93.521552</td>\n",
              "    </tr>\n",
              "    <tr>\n",
              "      <th>ZARAGOZA MADRID</th>\n",
              "      <td>97.479217</td>\n",
              "    </tr>\n",
              "  </tbody>\n",
              "</table>\n",
              "</div>"
            ],
            "text/plain": [
              "                    travel_time\n",
              "route                          \n",
              "ALBACETE MADRID      121.440154\n",
              "ALICANTE MADRID      175.473989\n",
              "BARCELONA MADRID     189.489657\n",
              "CADIZ MADRID         271.842506\n",
              "CASTELLON MADRID     208.985767\n",
              "CIUDAD REAL MADRID    67.645326\n",
              "CORDOBA MADRID       113.609548\n",
              "CUENCA MADRID         79.939528\n",
              "GIRONA MADRID        256.604286\n",
              "GRANADA MADRID       196.872067\n",
              "GUADALAJARA MADRID    32.196801\n",
              "HUESCA MADRID        182.294853\n",
              "LEON MADRID          195.200492\n",
              "LLEIDA MADRID        145.134559\n",
              "MADRID ALBACETE      114.722720\n",
              "MADRID ALICANTE      174.172555\n",
              "MADRID BARCELONA     189.924309\n",
              "MADRID CADIZ         266.821594\n",
              "MADRID CASTELLON     186.896901\n",
              "MADRID CIUDAD REAL    63.533840\n",
              "MADRID CORDOBA       110.842010\n",
              "MADRID CUENCA         77.764190\n",
              "MADRID GIRONA        240.275857\n",
              "MADRID GRANADA       198.330467\n",
              "MADRID GUADALAJARA    28.648010\n",
              "MADRID HUESCA        168.420833\n",
              "MADRID LEON          179.408354\n",
              "MADRID LLEIDA        131.489711\n",
              "MADRID MALAGA        163.620510\n",
              "MADRID PALENCIA      141.836009\n",
              "MADRID PONFERRADA    288.013957\n",
              "MADRID SEGOVIA        28.811725\n",
              "MADRID SEVILLA       164.099587\n",
              "MADRID TARRAGONA     180.501400\n",
              "MADRID TOLEDO         32.927476\n",
              "MADRID VALENCIA      172.991562\n",
              "MADRID VALLADOLID     86.714293\n",
              "MADRID ZAMORA         91.317172\n",
              "MADRID ZARAGOZA       94.255234\n",
              "MALAGA MADRID        162.562825\n",
              "PALENCIA MADRID      148.890748\n",
              "PONFERRADA MADRID    311.263369\n",
              "SEGOVIA MADRID        31.781016\n",
              "SEVILLA MADRID       169.236844\n",
              "TARRAGONA MADRID     185.583131\n",
              "TOLEDO MADRID         33.225948\n",
              "VALENCIA MADRID      182.277606\n",
              "VALLADOLID MADRID     92.152734\n",
              "ZAMORA MADRID         93.521552\n",
              "ZARAGOZA MADRID       97.479217"
            ]
          },
          "metadata": {
            "tags": []
          },
          "execution_count": 18
        }
      ]
    },
    {
      "cell_type": "markdown",
      "metadata": {
        "id": "8GSuC3v58hEj",
        "colab_type": "text"
      },
      "source": [
        "##### Duracion promedio de viaje segun destino"
      ]
    },
    {
      "cell_type": "code",
      "metadata": {
        "id": "DvuYuG7n8j7S",
        "colab_type": "code",
        "colab": {
          "base_uri": "https://localhost:8080/"
        },
        "outputId": "f2811764-846f-47c9-ceeb-792a96781620"
      },
      "source": [
        "dataSample.groupby('destination').agg({\"travel_time\": \"mean\"})"
      ],
      "execution_count": null,
      "outputs": [
        {
          "output_type": "execute_result",
          "data": {
            "text/html": [
              "<div>\n",
              "<style scoped>\n",
              "    .dataframe tbody tr th:only-of-type {\n",
              "        vertical-align: middle;\n",
              "    }\n",
              "\n",
              "    .dataframe tbody tr th {\n",
              "        vertical-align: top;\n",
              "    }\n",
              "\n",
              "    .dataframe thead th {\n",
              "        text-align: right;\n",
              "    }\n",
              "</style>\n",
              "<table border=\"1\" class=\"dataframe\">\n",
              "  <thead>\n",
              "    <tr style=\"text-align: right;\">\n",
              "      <th></th>\n",
              "      <th>travel_time</th>\n",
              "    </tr>\n",
              "    <tr>\n",
              "      <th>destination</th>\n",
              "      <th></th>\n",
              "    </tr>\n",
              "  </thead>\n",
              "  <tbody>\n",
              "    <tr>\n",
              "      <th>ALBACETE</th>\n",
              "      <td>114.722720</td>\n",
              "    </tr>\n",
              "    <tr>\n",
              "      <th>ALICANTE</th>\n",
              "      <td>174.172555</td>\n",
              "    </tr>\n",
              "    <tr>\n",
              "      <th>BARCELONA</th>\n",
              "      <td>189.924309</td>\n",
              "    </tr>\n",
              "    <tr>\n",
              "      <th>CADIZ</th>\n",
              "      <td>266.821594</td>\n",
              "    </tr>\n",
              "    <tr>\n",
              "      <th>CASTELLON</th>\n",
              "      <td>186.896901</td>\n",
              "    </tr>\n",
              "    <tr>\n",
              "      <th>CIUDAD REAL</th>\n",
              "      <td>63.533840</td>\n",
              "    </tr>\n",
              "    <tr>\n",
              "      <th>CORDOBA</th>\n",
              "      <td>110.842010</td>\n",
              "    </tr>\n",
              "    <tr>\n",
              "      <th>CUENCA</th>\n",
              "      <td>77.764190</td>\n",
              "    </tr>\n",
              "    <tr>\n",
              "      <th>GIRONA</th>\n",
              "      <td>240.275857</td>\n",
              "    </tr>\n",
              "    <tr>\n",
              "      <th>GRANADA</th>\n",
              "      <td>198.330467</td>\n",
              "    </tr>\n",
              "    <tr>\n",
              "      <th>GUADALAJARA</th>\n",
              "      <td>28.648010</td>\n",
              "    </tr>\n",
              "    <tr>\n",
              "      <th>HUESCA</th>\n",
              "      <td>168.420833</td>\n",
              "    </tr>\n",
              "    <tr>\n",
              "      <th>LEON</th>\n",
              "      <td>179.408354</td>\n",
              "    </tr>\n",
              "    <tr>\n",
              "      <th>LLEIDA</th>\n",
              "      <td>131.489711</td>\n",
              "    </tr>\n",
              "    <tr>\n",
              "      <th>MADRID</th>\n",
              "      <td>166.337819</td>\n",
              "    </tr>\n",
              "    <tr>\n",
              "      <th>MALAGA</th>\n",
              "      <td>163.620510</td>\n",
              "    </tr>\n",
              "    <tr>\n",
              "      <th>PALENCIA</th>\n",
              "      <td>141.836009</td>\n",
              "    </tr>\n",
              "    <tr>\n",
              "      <th>PONFERRADA</th>\n",
              "      <td>288.013957</td>\n",
              "    </tr>\n",
              "    <tr>\n",
              "      <th>SEGOVIA</th>\n",
              "      <td>28.811725</td>\n",
              "    </tr>\n",
              "    <tr>\n",
              "      <th>SEVILLA</th>\n",
              "      <td>164.099587</td>\n",
              "    </tr>\n",
              "    <tr>\n",
              "      <th>TARRAGONA</th>\n",
              "      <td>180.501400</td>\n",
              "    </tr>\n",
              "    <tr>\n",
              "      <th>TOLEDO</th>\n",
              "      <td>32.927476</td>\n",
              "    </tr>\n",
              "    <tr>\n",
              "      <th>VALENCIA</th>\n",
              "      <td>172.991562</td>\n",
              "    </tr>\n",
              "    <tr>\n",
              "      <th>VALLADOLID</th>\n",
              "      <td>86.714293</td>\n",
              "    </tr>\n",
              "    <tr>\n",
              "      <th>ZAMORA</th>\n",
              "      <td>91.317172</td>\n",
              "    </tr>\n",
              "    <tr>\n",
              "      <th>ZARAGOZA</th>\n",
              "      <td>94.255234</td>\n",
              "    </tr>\n",
              "  </tbody>\n",
              "</table>\n",
              "</div>"
            ],
            "text/plain": [
              "             travel_time\n",
              "destination             \n",
              "ALBACETE      114.722720\n",
              "ALICANTE      174.172555\n",
              "BARCELONA     189.924309\n",
              "CADIZ         266.821594\n",
              "CASTELLON     186.896901\n",
              "CIUDAD REAL    63.533840\n",
              "CORDOBA       110.842010\n",
              "CUENCA         77.764190\n",
              "GIRONA        240.275857\n",
              "GRANADA       198.330467\n",
              "GUADALAJARA    28.648010\n",
              "HUESCA        168.420833\n",
              "LEON          179.408354\n",
              "LLEIDA        131.489711\n",
              "MADRID        166.337819\n",
              "MALAGA        163.620510\n",
              "PALENCIA      141.836009\n",
              "PONFERRADA    288.013957\n",
              "SEGOVIA        28.811725\n",
              "SEVILLA       164.099587\n",
              "TARRAGONA     180.501400\n",
              "TOLEDO         32.927476\n",
              "VALENCIA      172.991562\n",
              "VALLADOLID     86.714293\n",
              "ZAMORA         91.317172\n",
              "ZARAGOZA       94.255234"
            ]
          },
          "metadata": {
            "tags": []
          },
          "execution_count": 19
        }
      ]
    },
    {
      "cell_type": "markdown",
      "metadata": {
        "id": "YQz0iobqqUtn",
        "colab_type": "text"
      },
      "source": [
        "#### Análisis de tipos de tren y costos asociados\n",
        "---\n"
      ]
    },
    {
      "cell_type": "code",
      "metadata": {
        "id": "6XMJTwp7rB7z",
        "colab_type": "code",
        "colab": {
          "base_uri": "https://localhost:8080/",
          "height": 499
        },
        "outputId": "71e8f0d9-3173-4512-f82b-28644a68f72a"
      },
      "source": [
        "sttype = dataSample['train_type'].value_counts()\n",
        "\n",
        "sttype.plot(kind = 'pie', title = 'trains by type', legend=True, figsize=(8,8))"
      ],
      "execution_count": null,
      "outputs": [
        {
          "output_type": "execute_result",
          "data": {
            "text/plain": [
              "<matplotlib.axes._subplots.AxesSubplot at 0x7f9bf08fd7b8>"
            ]
          },
          "metadata": {
            "tags": []
          },
          "execution_count": 20
        },
        {
          "output_type": "display_data",
          "data": {
            "image/png": "[encoded data removed]",
            "text/plain": [
              "<Figure size 576x576 with 1 Axes>"
            ]
          },
          "metadata": {
            "tags": []
          }
        }
      ]
    },
    {
      "cell_type": "code",
      "metadata": {
        "id": "iGjcyVpcuL8D",
        "colab_type": "code",
        "colab": {
          "base_uri": "https://localhost:8080/",
          "height": 499
        },
        "outputId": "533ae472-1470-4d86-b365-e3211701878f"
      },
      "source": [
        "sttype = dataSample['train_class'].value_counts()\n",
        "\n",
        "sttype.plot(kind = 'pie', title = 'entries by class', legend=True, figsize=(8,8))"
      ],
      "execution_count": null,
      "outputs": [
        {
          "output_type": "execute_result",
          "data": {
            "text/plain": [
              "<matplotlib.axes._subplots.AxesSubplot at 0x7f9bca327e48>"
            ]
          },
          "metadata": {
            "tags": []
          },
          "execution_count": 21
        },
        {
          "output_type": "display_data",
          "data": {
            "image/png": "[encoded data removed]",
            "text/plain": [
              "<Figure size 576x576 with 1 Axes>"
            ]
          },
          "metadata": {
            "tags": []
          }
        }
      ]
    },
    {
      "cell_type": "markdown",
      "metadata": {
        "id": "YN4t-biIvCXO",
        "colab_type": "text"
      },
      "source": [
        "##### Frequencia de precio\n"
      ]
    },
    {
      "cell_type": "code",
      "metadata": {
        "id": "MZ0Sfhj9vJov",
        "colab_type": "code",
        "colab": {
          "base_uri": "https://localhost:8080/",
          "height": 533
        },
        "outputId": "c94ce464-d70b-4cee-cf10-8993c12461fc"
      },
      "source": [
        "dataSample.hist(column= 'price', figsize=(8,8), grid=False)"
      ],
      "execution_count": null,
      "outputs": [
        {
          "output_type": "execute_result",
          "data": {
            "text/plain": [
              "array([[<matplotlib.axes._subplots.AxesSubplot object at 0x7f9c01f6d320>]],\n",
              "      dtype=object)"
            ]
          },
          "metadata": {
            "tags": []
          },
          "execution_count": 22
        },
        {
          "output_type": "display_data",
          "data": {
            "image/png": "[encoded data removed]",
            "text/plain": [
              "<Figure size 576x576 with 1 Axes>"
            ]
          },
          "metadata": {
            "tags": [],
            "needs_background": "light"
          }
        }
      ]
    },
    {
      "cell_type": "markdown",
      "metadata": {
        "id": "aOQMRo7ZtNGe",
        "colab_type": "text"
      },
      "source": [
        "##### Precio promedio por clase"
      ]
    },
    {
      "cell_type": "code",
      "metadata": {
        "id": "aKT982-cyCMY",
        "colab_type": "code",
        "colab": {
          "base_uri": "https://localhost:8080/",
          "height": 373
        },
        "outputId": "993a8634-67d0-447f-c456-a73568a2dc63"
      },
      "source": [
        "dataSample.groupby('train_class').agg({\"price\": \"mean\"})"
      ],
      "execution_count": null,
      "outputs": [
        {
          "output_type": "execute_result",
          "data": {
            "text/html": [
              "<div>\n",
              "<style scoped>\n",
              "    .dataframe tbody tr th:only-of-type {\n",
              "        vertical-align: middle;\n",
              "    }\n",
              "\n",
              "    .dataframe tbody tr th {\n",
              "        vertical-align: top;\n",
              "    }\n",
              "\n",
              "    .dataframe thead th {\n",
              "        text-align: right;\n",
              "    }\n",
              "</style>\n",
              "<table border=\"1\" class=\"dataframe\">\n",
              "  <thead>\n",
              "    <tr style=\"text-align: right;\">\n",
              "      <th></th>\n",
              "      <th>price</th>\n",
              "    </tr>\n",
              "    <tr>\n",
              "      <th>train_class</th>\n",
              "      <th></th>\n",
              "    </tr>\n",
              "  </thead>\n",
              "  <tbody>\n",
              "    <tr>\n",
              "      <th>Cama G. Clase</th>\n",
              "      <td>103.320710</td>\n",
              "    </tr>\n",
              "    <tr>\n",
              "      <th>Cama Turista</th>\n",
              "      <td>64.846066</td>\n",
              "    </tr>\n",
              "    <tr>\n",
              "      <th>None</th>\n",
              "      <td>0.000000</td>\n",
              "    </tr>\n",
              "    <tr>\n",
              "      <th>Preferente</th>\n",
              "      <td>70.898406</td>\n",
              "    </tr>\n",
              "    <tr>\n",
              "      <th>PreferenteSólo plaza H</th>\n",
              "      <td>68.604075</td>\n",
              "    </tr>\n",
              "    <tr>\n",
              "      <th>Turista</th>\n",
              "      <td>53.476977</td>\n",
              "    </tr>\n",
              "    <tr>\n",
              "      <th>Turista Plus</th>\n",
              "      <td>75.214137</td>\n",
              "    </tr>\n",
              "    <tr>\n",
              "      <th>Turista PlusSólo plaza H</th>\n",
              "      <td>62.000000</td>\n",
              "    </tr>\n",
              "    <tr>\n",
              "      <th>Turista con enlace</th>\n",
              "      <td>50.115962</td>\n",
              "    </tr>\n",
              "    <tr>\n",
              "      <th>TuristaSólo plaza H</th>\n",
              "      <td>69.851792</td>\n",
              "    </tr>\n",
              "  </tbody>\n",
              "</table>\n",
              "</div>"
            ],
            "text/plain": [
              "                               price\n",
              "train_class                         \n",
              "Cama G. Clase             103.320710\n",
              "Cama Turista               64.846066\n",
              "None                        0.000000\n",
              "Preferente                 70.898406\n",
              "PreferenteSólo plaza H     68.604075\n",
              "Turista                    53.476977\n",
              "Turista Plus               75.214137\n",
              "Turista PlusSólo plaza H   62.000000\n",
              "Turista con enlace         50.115962\n",
              "TuristaSólo plaza H        69.851792"
            ]
          },
          "metadata": {
            "tags": []
          },
          "execution_count": 23
        }
      ]
    },
    {
      "cell_type": "markdown",
      "metadata": {
        "id": "fON8f2wt40TA",
        "colab_type": "text"
      },
      "source": [
        "##### Precio promedio por destino, tarifa minima y maxima"
      ]
    },
    {
      "cell_type": "code",
      "metadata": {
        "id": "mC1tg5jd43OW",
        "colab_type": "code",
        "colab": {
          "base_uri": "https://localhost:8080/",
          "height": 846
        },
        "outputId": "ca3a89b4-da2a-43d6-b838-8c1c03c29393"
      },
      "source": [
        "dataSample.groupby('destination').agg({\"price\": \"mean\"})"
      ],
      "execution_count": null,
      "outputs": [
        {
          "output_type": "execute_result",
          "data": {
            "text/html": [
              "<div>\n",
              "<style scoped>\n",
              "    .dataframe tbody tr th:only-of-type {\n",
              "        vertical-align: middle;\n",
              "    }\n",
              "\n",
              "    .dataframe tbody tr th {\n",
              "        vertical-align: top;\n",
              "    }\n",
              "\n",
              "    .dataframe thead th {\n",
              "        text-align: right;\n",
              "    }\n",
              "</style>\n",
              "<table border=\"1\" class=\"dataframe\">\n",
              "  <thead>\n",
              "    <tr style=\"text-align: right;\">\n",
              "      <th></th>\n",
              "      <th>price</th>\n",
              "    </tr>\n",
              "    <tr>\n",
              "      <th>destination</th>\n",
              "      <th></th>\n",
              "    </tr>\n",
              "  </thead>\n",
              "  <tbody>\n",
              "    <tr>\n",
              "      <th>ALBACETE</th>\n",
              "      <td>14.250125</td>\n",
              "    </tr>\n",
              "    <tr>\n",
              "      <th>ALICANTE</th>\n",
              "      <td>23.795859</td>\n",
              "    </tr>\n",
              "    <tr>\n",
              "      <th>BARCELONA</th>\n",
              "      <td>65.626607</td>\n",
              "    </tr>\n",
              "    <tr>\n",
              "      <th>CADIZ</th>\n",
              "      <td>59.054000</td>\n",
              "    </tr>\n",
              "    <tr>\n",
              "      <th>CASTELLON</th>\n",
              "      <td>32.256429</td>\n",
              "    </tr>\n",
              "    <tr>\n",
              "      <th>CIUDAD REAL</th>\n",
              "      <td>31.575727</td>\n",
              "    </tr>\n",
              "    <tr>\n",
              "      <th>CORDOBA</th>\n",
              "      <td>33.178394</td>\n",
              "    </tr>\n",
              "    <tr>\n",
              "      <th>CUENCA</th>\n",
              "      <td>24.392885</td>\n",
              "    </tr>\n",
              "    <tr>\n",
              "      <th>GIRONA</th>\n",
              "      <td>50.073518</td>\n",
              "    </tr>\n",
              "    <tr>\n",
              "      <th>GRANADA</th>\n",
              "      <td>36.782132</td>\n",
              "    </tr>\n",
              "    <tr>\n",
              "      <th>GUADALAJARA</th>\n",
              "      <td>13.806898</td>\n",
              "    </tr>\n",
              "    <tr>\n",
              "      <th>HUESCA</th>\n",
              "      <td>44.571389</td>\n",
              "    </tr>\n",
              "    <tr>\n",
              "      <th>LEON</th>\n",
              "      <td>17.842905</td>\n",
              "    </tr>\n",
              "    <tr>\n",
              "      <th>LLEIDA</th>\n",
              "      <td>25.314401</td>\n",
              "    </tr>\n",
              "    <tr>\n",
              "      <th>MADRID</th>\n",
              "      <td>39.392735</td>\n",
              "    </tr>\n",
              "    <tr>\n",
              "      <th>MALAGA</th>\n",
              "      <td>39.560994</td>\n",
              "    </tr>\n",
              "    <tr>\n",
              "      <th>PALENCIA</th>\n",
              "      <td>27.264569</td>\n",
              "    </tr>\n",
              "    <tr>\n",
              "      <th>PONFERRADA</th>\n",
              "      <td>38.103188</td>\n",
              "    </tr>\n",
              "    <tr>\n",
              "      <th>SEGOVIA</th>\n",
              "      <td>15.468512</td>\n",
              "    </tr>\n",
              "    <tr>\n",
              "      <th>SEVILLA</th>\n",
              "      <td>46.156112</td>\n",
              "    </tr>\n",
              "    <tr>\n",
              "      <th>TARRAGONA</th>\n",
              "      <td>31.378422</td>\n",
              "    </tr>\n",
              "    <tr>\n",
              "      <th>TOLEDO</th>\n",
              "      <td>13.749972</td>\n",
              "    </tr>\n",
              "    <tr>\n",
              "      <th>VALENCIA</th>\n",
              "      <td>34.631825</td>\n",
              "    </tr>\n",
              "    <tr>\n",
              "      <th>VALLADOLID</th>\n",
              "      <td>12.971120</td>\n",
              "    </tr>\n",
              "    <tr>\n",
              "      <th>ZAMORA</th>\n",
              "      <td>25.092586</td>\n",
              "    </tr>\n",
              "    <tr>\n",
              "      <th>ZARAGOZA</th>\n",
              "      <td>24.980943</td>\n",
              "    </tr>\n",
              "  </tbody>\n",
              "</table>\n",
              "</div>"
            ],
            "text/plain": [
              "                 price\n",
              "destination           \n",
              "ALBACETE     14.250125\n",
              "ALICANTE     23.795859\n",
              "BARCELONA    65.626607\n",
              "CADIZ        59.054000\n",
              "CASTELLON    32.256429\n",
              "CIUDAD REAL  31.575727\n",
              "CORDOBA      33.178394\n",
              "CUENCA       24.392885\n",
              "GIRONA       50.073518\n",
              "GRANADA      36.782132\n",
              "GUADALAJARA  13.806898\n",
              "HUESCA       44.571389\n",
              "LEON         17.842905\n",
              "LLEIDA       25.314401\n",
              "MADRID       39.392735\n",
              "MALAGA       39.560994\n",
              "PALENCIA     27.264569\n",
              "PONFERRADA   38.103188\n",
              "SEGOVIA      15.468512\n",
              "SEVILLA      46.156112\n",
              "TARRAGONA    31.378422\n",
              "TOLEDO       13.749972\n",
              "VALENCIA     34.631825\n",
              "VALLADOLID   12.971120\n",
              "ZAMORA       25.092586\n",
              "ZARAGOZA     24.980943"
            ]
          },
          "metadata": {
            "tags": []
          },
          "execution_count": 24
        }
      ]
    },
    {
      "cell_type": "code",
      "metadata": {
        "id": "a6d1wBON9iBJ",
        "colab_type": "code",
        "colab": {
          "base_uri": "https://localhost:8080/",
          "height": 876
        },
        "outputId": "57a53e8b-80a4-4933-d290-bddf8d6cebed"
      },
      "source": [
        "dataSample.groupby('destination').agg({\"price\": [\"min\", \"max\"]})"
      ],
      "execution_count": null,
      "outputs": [
        {
          "output_type": "execute_result",
          "data": {
            "text/html": [
              "<div>\n",
              "<style scoped>\n",
              "    .dataframe tbody tr th:only-of-type {\n",
              "        vertical-align: middle;\n",
              "    }\n",
              "\n",
              "    .dataframe tbody tr th {\n",
              "        vertical-align: top;\n",
              "    }\n",
              "\n",
              "    .dataframe thead tr th {\n",
              "        text-align: left;\n",
              "    }\n",
              "\n",
              "    .dataframe thead tr:last-of-type th {\n",
              "        text-align: right;\n",
              "    }\n",
              "</style>\n",
              "<table border=\"1\" class=\"dataframe\">\n",
              "  <thead>\n",
              "    <tr>\n",
              "      <th></th>\n",
              "      <th colspan=\"2\" halign=\"left\">price</th>\n",
              "    </tr>\n",
              "    <tr>\n",
              "      <th></th>\n",
              "      <th>min</th>\n",
              "      <th>max</th>\n",
              "    </tr>\n",
              "    <tr>\n",
              "      <th>destination</th>\n",
              "      <th></th>\n",
              "      <th></th>\n",
              "    </tr>\n",
              "  </thead>\n",
              "  <tbody>\n",
              "    <tr>\n",
              "      <th>ALBACETE</th>\n",
              "      <td>0.0</td>\n",
              "      <td>76.6</td>\n",
              "    </tr>\n",
              "    <tr>\n",
              "      <th>ALICANTE</th>\n",
              "      <td>0.0</td>\n",
              "      <td>111.7</td>\n",
              "    </tr>\n",
              "    <tr>\n",
              "      <th>BARCELONA</th>\n",
              "      <td>0.0</td>\n",
              "      <td>342.8</td>\n",
              "    </tr>\n",
              "    <tr>\n",
              "      <th>CADIZ</th>\n",
              "      <td>0.0</td>\n",
              "      <td>97.7</td>\n",
              "    </tr>\n",
              "    <tr>\n",
              "      <th>CASTELLON</th>\n",
              "      <td>0.0</td>\n",
              "      <td>137.5</td>\n",
              "    </tr>\n",
              "    <tr>\n",
              "      <th>CIUDAD REAL</th>\n",
              "      <td>0.0</td>\n",
              "      <td>64.1</td>\n",
              "    </tr>\n",
              "    <tr>\n",
              "      <th>CORDOBA</th>\n",
              "      <td>0.0</td>\n",
              "      <td>106.8</td>\n",
              "    </tr>\n",
              "    <tr>\n",
              "      <th>CUENCA</th>\n",
              "      <td>0.0</td>\n",
              "      <td>59.9</td>\n",
              "    </tr>\n",
              "    <tr>\n",
              "      <th>GIRONA</th>\n",
              "      <td>0.0</td>\n",
              "      <td>226.4</td>\n",
              "    </tr>\n",
              "    <tr>\n",
              "      <th>GRANADA</th>\n",
              "      <td>0.0</td>\n",
              "      <td>136.9</td>\n",
              "    </tr>\n",
              "    <tr>\n",
              "      <th>GUADALAJARA</th>\n",
              "      <td>0.0</td>\n",
              "      <td>21.2</td>\n",
              "    </tr>\n",
              "    <tr>\n",
              "      <th>HUESCA</th>\n",
              "      <td>0.0</td>\n",
              "      <td>98.3</td>\n",
              "    </tr>\n",
              "    <tr>\n",
              "      <th>LEON</th>\n",
              "      <td>0.0</td>\n",
              "      <td>91.9</td>\n",
              "    </tr>\n",
              "    <tr>\n",
              "      <th>LLEIDA</th>\n",
              "      <td>0.0</td>\n",
              "      <td>125.8</td>\n",
              "    </tr>\n",
              "    <tr>\n",
              "      <th>MADRID</th>\n",
              "      <td>0.0</td>\n",
              "      <td>290.4</td>\n",
              "    </tr>\n",
              "    <tr>\n",
              "      <th>MALAGA</th>\n",
              "      <td>0.0</td>\n",
              "      <td>136.8</td>\n",
              "    </tr>\n",
              "    <tr>\n",
              "      <th>PALENCIA</th>\n",
              "      <td>0.0</td>\n",
              "      <td>60.2</td>\n",
              "    </tr>\n",
              "    <tr>\n",
              "      <th>PONFERRADA</th>\n",
              "      <td>0.0</td>\n",
              "      <td>150.6</td>\n",
              "    </tr>\n",
              "    <tr>\n",
              "      <th>SEGOVIA</th>\n",
              "      <td>0.0</td>\n",
              "      <td>32.0</td>\n",
              "    </tr>\n",
              "    <tr>\n",
              "      <th>SEVILLA</th>\n",
              "      <td>0.0</td>\n",
              "      <td>166.6</td>\n",
              "    </tr>\n",
              "    <tr>\n",
              "      <th>TARRAGONA</th>\n",
              "      <td>0.0</td>\n",
              "      <td>139.2</td>\n",
              "    </tr>\n",
              "    <tr>\n",
              "      <th>TOLEDO</th>\n",
              "      <td>0.0</td>\n",
              "      <td>13.9</td>\n",
              "    </tr>\n",
              "    <tr>\n",
              "      <th>VALENCIA</th>\n",
              "      <td>0.0</td>\n",
              "      <td>159.6</td>\n",
              "    </tr>\n",
              "    <tr>\n",
              "      <th>VALLADOLID</th>\n",
              "      <td>0.0</td>\n",
              "      <td>80.6</td>\n",
              "    </tr>\n",
              "    <tr>\n",
              "      <th>ZAMORA</th>\n",
              "      <td>0.0</td>\n",
              "      <td>53.6</td>\n",
              "    </tr>\n",
              "    <tr>\n",
              "      <th>ZARAGOZA</th>\n",
              "      <td>0.0</td>\n",
              "      <td>92.2</td>\n",
              "    </tr>\n",
              "  </tbody>\n",
              "</table>\n",
              "</div>"
            ],
            "text/plain": [
              "            price       \n",
              "              min    max\n",
              "destination             \n",
              "ALBACETE      0.0   76.6\n",
              "ALICANTE      0.0  111.7\n",
              "BARCELONA     0.0  342.8\n",
              "CADIZ         0.0   97.7\n",
              "CASTELLON     0.0  137.5\n",
              "CIUDAD REAL   0.0   64.1\n",
              "CORDOBA       0.0  106.8\n",
              "CUENCA        0.0   59.9\n",
              "GIRONA        0.0  226.4\n",
              "GRANADA       0.0  136.9\n",
              "GUADALAJARA   0.0   21.2\n",
              "HUESCA        0.0   98.3\n",
              "LEON          0.0   91.9\n",
              "LLEIDA        0.0  125.8\n",
              "MADRID        0.0  290.4\n",
              "MALAGA        0.0  136.8\n",
              "PALENCIA      0.0   60.2\n",
              "PONFERRADA    0.0  150.6\n",
              "SEGOVIA       0.0   32.0\n",
              "SEVILLA       0.0  166.6\n",
              "TARRAGONA     0.0  139.2\n",
              "TOLEDO        0.0   13.9\n",
              "VALENCIA      0.0  159.6\n",
              "VALLADOLID    0.0   80.6\n",
              "ZAMORA        0.0   53.6\n",
              "ZARAGOZA      0.0   92.2"
            ]
          },
          "metadata": {
            "tags": []
          },
          "execution_count": 25
        }
      ]
    },
    {
      "cell_type": "markdown",
      "metadata": {
        "id": "KF7YATAr5AU1",
        "colab_type": "text"
      },
      "source": [
        "##### Precio promedio por tipo de tren\n"
      ]
    },
    {
      "cell_type": "code",
      "metadata": {
        "id": "J5vC7_0s89xF",
        "colab_type": "code",
        "colab": {
          "base_uri": "https://localhost:8080/",
          "height": 876
        },
        "outputId": "77fb3a30-0aa1-4282-dfc4-f1ca4aa37d62"
      },
      "source": [
        "dataSample.groupby('train_type').agg({\"price\": \"mean\"})"
      ],
      "execution_count": null,
      "outputs": [
        {
          "output_type": "execute_result",
          "data": {
            "text/html": [
              "<div>\n",
              "<style scoped>\n",
              "    .dataframe tbody tr th:only-of-type {\n",
              "        vertical-align: middle;\n",
              "    }\n",
              "\n",
              "    .dataframe tbody tr th {\n",
              "        vertical-align: top;\n",
              "    }\n",
              "\n",
              "    .dataframe thead th {\n",
              "        text-align: right;\n",
              "    }\n",
              "</style>\n",
              "<table border=\"1\" class=\"dataframe\">\n",
              "  <thead>\n",
              "    <tr style=\"text-align: right;\">\n",
              "      <th></th>\n",
              "      <th>price</th>\n",
              "    </tr>\n",
              "    <tr>\n",
              "      <th>train_type</th>\n",
              "      <th></th>\n",
              "    </tr>\n",
              "  </thead>\n",
              "  <tbody>\n",
              "    <tr>\n",
              "      <th>ALTARIA</th>\n",
              "      <td>20.322606</td>\n",
              "    </tr>\n",
              "    <tr>\n",
              "      <th>ALVIA</th>\n",
              "      <td>27.836712</td>\n",
              "    </tr>\n",
              "    <tr>\n",
              "      <th>AV City</th>\n",
              "      <td>29.337593</td>\n",
              "    </tr>\n",
              "    <tr>\n",
              "      <th>AVANT</th>\n",
              "      <td>14.097662</td>\n",
              "    </tr>\n",
              "    <tr>\n",
              "      <th>AVANT-AVE</th>\n",
              "      <td>81.544539</td>\n",
              "    </tr>\n",
              "    <tr>\n",
              "      <th>AVANT-LD</th>\n",
              "      <td>37.136368</td>\n",
              "    </tr>\n",
              "    <tr>\n",
              "      <th>AVANT-MD</th>\n",
              "      <td>30.042599</td>\n",
              "    </tr>\n",
              "    <tr>\n",
              "      <th>AVE</th>\n",
              "      <td>43.722272</td>\n",
              "    </tr>\n",
              "    <tr>\n",
              "      <th>AVE-AVANT</th>\n",
              "      <td>84.278745</td>\n",
              "    </tr>\n",
              "    <tr>\n",
              "      <th>AVE-AVE</th>\n",
              "      <td>76.415651</td>\n",
              "    </tr>\n",
              "    <tr>\n",
              "      <th>AVE-LD</th>\n",
              "      <td>45.177804</td>\n",
              "    </tr>\n",
              "    <tr>\n",
              "      <th>AVE-MD</th>\n",
              "      <td>53.240575</td>\n",
              "    </tr>\n",
              "    <tr>\n",
              "      <th>AVE-TGV</th>\n",
              "      <td>47.067821</td>\n",
              "    </tr>\n",
              "    <tr>\n",
              "      <th>AVLO</th>\n",
              "      <td>35.208174</td>\n",
              "    </tr>\n",
              "    <tr>\n",
              "      <th>INTERCITY</th>\n",
              "      <td>27.191661</td>\n",
              "    </tr>\n",
              "    <tr>\n",
              "      <th>LD</th>\n",
              "      <td>31.561157</td>\n",
              "    </tr>\n",
              "    <tr>\n",
              "      <th>LD-AVANT</th>\n",
              "      <td>44.088502</td>\n",
              "    </tr>\n",
              "    <tr>\n",
              "      <th>LD-AVE</th>\n",
              "      <td>49.082150</td>\n",
              "    </tr>\n",
              "    <tr>\n",
              "      <th>LD-MD</th>\n",
              "      <td>33.922995</td>\n",
              "    </tr>\n",
              "    <tr>\n",
              "      <th>MD</th>\n",
              "      <td>17.364095</td>\n",
              "    </tr>\n",
              "    <tr>\n",
              "      <th>MD-AVANT</th>\n",
              "      <td>37.420271</td>\n",
              "    </tr>\n",
              "    <tr>\n",
              "      <th>MD-AVE</th>\n",
              "      <td>52.187849</td>\n",
              "    </tr>\n",
              "    <tr>\n",
              "      <th>MD-LD</th>\n",
              "      <td>34.193081</td>\n",
              "    </tr>\n",
              "    <tr>\n",
              "      <th>R. EXPRES</th>\n",
              "      <td>42.806748</td>\n",
              "    </tr>\n",
              "    <tr>\n",
              "      <th>REG.EXP.</th>\n",
              "      <td>34.516900</td>\n",
              "    </tr>\n",
              "    <tr>\n",
              "      <th>REGIONAL</th>\n",
              "      <td>27.892605</td>\n",
              "    </tr>\n",
              "    <tr>\n",
              "      <th>TRENHOTEL</th>\n",
              "      <td>32.348912</td>\n",
              "    </tr>\n",
              "  </tbody>\n",
              "</table>\n",
              "</div>"
            ],
            "text/plain": [
              "                price\n",
              "train_type           \n",
              "ALTARIA     20.322606\n",
              "ALVIA       27.836712\n",
              "AV City     29.337593\n",
              "AVANT       14.097662\n",
              "AVANT-AVE   81.544539\n",
              "AVANT-LD    37.136368\n",
              "AVANT-MD    30.042599\n",
              "AVE         43.722272\n",
              "AVE-AVANT   84.278745\n",
              "AVE-AVE     76.415651\n",
              "AVE-LD      45.177804\n",
              "AVE-MD      53.240575\n",
              "AVE-TGV     47.067821\n",
              "AVLO        35.208174\n",
              "INTERCITY   27.191661\n",
              "LD          31.561157\n",
              "LD-AVANT    44.088502\n",
              "LD-AVE      49.082150\n",
              "LD-MD       33.922995\n",
              "MD          17.364095\n",
              "MD-AVANT    37.420271\n",
              "MD-AVE      52.187849\n",
              "MD-LD       34.193081\n",
              "R. EXPRES   42.806748\n",
              "REG.EXP.    34.516900\n",
              "REGIONAL    27.892605\n",
              "TRENHOTEL   32.348912"
            ]
          },
          "metadata": {
            "tags": []
          },
          "execution_count": 26
        }
      ]
    }
  ]
}